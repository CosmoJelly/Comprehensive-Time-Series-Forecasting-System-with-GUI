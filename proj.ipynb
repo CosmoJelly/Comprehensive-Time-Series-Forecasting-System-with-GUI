{
 "cells": [
  {
   "cell_type": "markdown",
   "metadata": {},
   "source": [
    "Preprocessing"
   ]
  },
  {
   "cell_type": "markdown",
   "metadata": {},
   "source": [
    "co2:  https://gml.noaa.gov/ccgg/trends/data.html\n",
    "energy: https://www.kaggle.com/datasets/nicholasjhana/energy-consumption-generation-prices-and-weather?select=energy_dataset.csv"
   ]
  },
  {
   "cell_type": "code",
   "execution_count": 53,
   "metadata": {},
   "outputs": [],
   "source": [
    "import pandas as pd\n",
    "import numpy as np\n",
    "from sklearn.preprocessing import MinMaxScaler\n",
    "from statsmodels.tsa.stattools import adfuller\n"
   ]
  },
  {
   "cell_type": "markdown",
   "metadata": {},
   "source": [
    "Cleaning"
   ]
  },
  {
   "cell_type": "code",
   "execution_count": 54,
   "metadata": {},
   "outputs": [
    {
     "data": {
      "text/html": [
       "<div>\n",
       "<style scoped>\n",
       "    .dataframe tbody tr th:only-of-type {\n",
       "        vertical-align: middle;\n",
       "    }\n",
       "\n",
       "    .dataframe tbody tr th {\n",
       "        vertical-align: top;\n",
       "    }\n",
       "\n",
       "    .dataframe thead th {\n",
       "        text-align: right;\n",
       "    }\n",
       "</style>\n",
       "<table border=\"1\" class=\"dataframe\">\n",
       "  <thead>\n",
       "    <tr style=\"text-align: right;\">\n",
       "      <th></th>\n",
       "      <th>yr</th>\n",
       "      <th>mon</th>\n",
       "      <th>day</th>\n",
       "      <th>decimal</th>\n",
       "      <th>CO2 molfrac (ppm)</th>\n",
       "    </tr>\n",
       "  </thead>\n",
       "  <tbody>\n",
       "    <tr>\n",
       "      <th>0</th>\n",
       "      <td>1974</td>\n",
       "      <td>5</td>\n",
       "      <td>19</td>\n",
       "      <td>1974.3781</td>\n",
       "      <td>333.46</td>\n",
       "    </tr>\n",
       "    <tr>\n",
       "      <th>1</th>\n",
       "      <td>1974</td>\n",
       "      <td>5</td>\n",
       "      <td>20</td>\n",
       "      <td>1974.3808</td>\n",
       "      <td>333.64</td>\n",
       "    </tr>\n",
       "    <tr>\n",
       "      <th>2</th>\n",
       "      <td>1974</td>\n",
       "      <td>5</td>\n",
       "      <td>21</td>\n",
       "      <td>1974.3836</td>\n",
       "      <td>333.50</td>\n",
       "    </tr>\n",
       "    <tr>\n",
       "      <th>3</th>\n",
       "      <td>1974</td>\n",
       "      <td>5</td>\n",
       "      <td>22</td>\n",
       "      <td>1974.3863</td>\n",
       "      <td>333.21</td>\n",
       "    </tr>\n",
       "    <tr>\n",
       "      <th>4</th>\n",
       "      <td>1974</td>\n",
       "      <td>5</td>\n",
       "      <td>23</td>\n",
       "      <td>1974.3890</td>\n",
       "      <td>333.05</td>\n",
       "    </tr>\n",
       "  </tbody>\n",
       "</table>\n",
       "</div>"
      ],
      "text/plain": [
       "     yr  mon  day    decimal  CO2 molfrac (ppm)\n",
       "0  1974    5   19  1974.3781             333.46\n",
       "1  1974    5   20  1974.3808             333.64\n",
       "2  1974    5   21  1974.3836             333.50\n",
       "3  1974    5   22  1974.3863             333.21\n",
       "4  1974    5   23  1974.3890             333.05"
      ]
     },
     "execution_count": 54,
     "metadata": {},
     "output_type": "execute_result"
    }
   ],
   "source": [
    "co2_df=pd.read_csv(\"co2_daily_mlo.csv\")\n",
    "co2_df.head()"
   ]
  },
  {
   "cell_type": "code",
   "execution_count": 55,
   "metadata": {},
   "outputs": [
    {
     "data": {
      "text/plain": [
       "yr                   0\n",
       "mon                  0\n",
       "day                  0\n",
       "decimal              0\n",
       "CO2 molfrac (ppm)    0\n",
       "dtype: int64"
      ]
     },
     "execution_count": 55,
     "metadata": {},
     "output_type": "execute_result"
    }
   ],
   "source": [
    "co2_df.isnull().sum()"
   ]
  },
  {
   "cell_type": "code",
   "execution_count": 56,
   "metadata": {},
   "outputs": [],
   "source": [
    "# converting 'yr', 'mon', and 'day' into a dictionary\n",
    "date_cols = {\n",
    "    'year': co2_df['yr'],\n",
    "    'month': co2_df['mon'],\n",
    "    'day': co2_df['day']\n",
    "}\n"
   ]
  },
  {
   "cell_type": "code",
   "execution_count": 57,
   "metadata": {},
   "outputs": [],
   "source": [
    "# converting to single col\n",
    "co2_df['date'] = pd.to_datetime(date_cols)"
   ]
  },
  {
   "cell_type": "code",
   "execution_count": 58,
   "metadata": {},
   "outputs": [],
   "source": [
    "#dropping unnessacrry cols\n",
    "co2_df.drop(columns=['yr','mon','day'],inplace=True)\n",
    "\n",
    "#using date as index and sorting\n",
    "co2_df.set_index('date',inplace=True)\n",
    "co2_df.sort_index(inplace=True)"
   ]
  },
  {
   "cell_type": "code",
   "execution_count": 59,
   "metadata": {},
   "outputs": [],
   "source": [
    "co2_df.drop(columns=['decimal'],inplace=True)"
   ]
  },
  {
   "cell_type": "markdown",
   "metadata": {},
   "source": [
    "Normalising"
   ]
  },
  {
   "cell_type": "code",
   "execution_count": 60,
   "metadata": {},
   "outputs": [
    {
     "data": {
      "text/html": [
       "<div>\n",
       "<style scoped>\n",
       "    .dataframe tbody tr th:only-of-type {\n",
       "        vertical-align: middle;\n",
       "    }\n",
       "\n",
       "    .dataframe tbody tr th {\n",
       "        vertical-align: top;\n",
       "    }\n",
       "\n",
       "    .dataframe thead th {\n",
       "        text-align: right;\n",
       "    }\n",
       "</style>\n",
       "<table border=\"1\" class=\"dataframe\">\n",
       "  <thead>\n",
       "    <tr style=\"text-align: right;\">\n",
       "      <th></th>\n",
       "      <th>CO2 molfrac (ppm)</th>\n",
       "      <th>co2_normalized</th>\n",
       "    </tr>\n",
       "    <tr>\n",
       "      <th>date</th>\n",
       "      <th></th>\n",
       "      <th></th>\n",
       "    </tr>\n",
       "  </thead>\n",
       "  <tbody>\n",
       "    <tr>\n",
       "      <th>1974-05-19</th>\n",
       "      <td>333.46</td>\n",
       "      <td>0.072174</td>\n",
       "    </tr>\n",
       "    <tr>\n",
       "      <th>1974-05-20</th>\n",
       "      <td>333.64</td>\n",
       "      <td>0.073930</td>\n",
       "    </tr>\n",
       "    <tr>\n",
       "      <th>1974-05-21</th>\n",
       "      <td>333.50</td>\n",
       "      <td>0.072564</td>\n",
       "    </tr>\n",
       "    <tr>\n",
       "      <th>1974-05-22</th>\n",
       "      <td>333.21</td>\n",
       "      <td>0.069736</td>\n",
       "    </tr>\n",
       "    <tr>\n",
       "      <th>1974-05-23</th>\n",
       "      <td>333.05</td>\n",
       "      <td>0.068175</td>\n",
       "    </tr>\n",
       "  </tbody>\n",
       "</table>\n",
       "</div>"
      ],
      "text/plain": [
       "            CO2 molfrac (ppm)  co2_normalized\n",
       "date                                         \n",
       "1974-05-19             333.46        0.072174\n",
       "1974-05-20             333.64        0.073930\n",
       "1974-05-21             333.50        0.072564\n",
       "1974-05-22             333.21        0.069736\n",
       "1974-05-23             333.05        0.068175"
      ]
     },
     "execution_count": 60,
     "metadata": {},
     "output_type": "execute_result"
    }
   ],
   "source": [
    "# Normalising \n",
    "scaler = MinMaxScaler()\n",
    "co2_df['co2_normalized'] = scaler.fit_transform(co2_df[['CO2 molfrac (ppm)']])\n",
    "co2_df.head()"
   ]
  },
  {
   "cell_type": "markdown",
   "metadata": {},
   "source": [
    "Stationarization"
   ]
  },
  {
   "cell_type": "code",
   "execution_count": 61,
   "metadata": {},
   "outputs": [],
   "source": [
    "# function to check if stationary: \n",
    "def is_stationary(col):\n",
    "    # Drop missing and infinite values\n",
    "    col_cleaned = col.replace([np.inf, -np.inf], np.nan).dropna()\n",
    "\n",
    "    result = adfuller(col_cleaned)\n",
    "\n",
    "    print('ADF Statistic:', result[0])\n",
    "    print('p-value:', result[1])"
   ]
  },
  {
   "cell_type": "code",
   "execution_count": 62,
   "metadata": {},
   "outputs": [
    {
     "name": "stdout",
     "output_type": "stream",
     "text": [
      "ADF Statistic: -0.8768372753416949\n",
      "p-value: 0.7955045128096212\n"
     ]
    }
   ],
   "source": [
    "is_stationary(co2_df['co2_normalized'])"
   ]
  },
  {
   "cell_type": "markdown",
   "metadata": {},
   "source": [
    "Data isnt stationary so i will perform diff function"
   ]
  },
  {
   "cell_type": "code",
   "execution_count": 63,
   "metadata": {},
   "outputs": [],
   "source": [
    "co2_df['CO2_diff'] = co2_df['CO2 molfrac (ppm)'].diff()"
   ]
  },
  {
   "cell_type": "code",
   "execution_count": 64,
   "metadata": {},
   "outputs": [
    {
     "name": "stdout",
     "output_type": "stream",
     "text": [
      "ADF Statistic: -12.188875375575533\n",
      "p-value: 1.2995568222946043e-22\n"
     ]
    }
   ],
   "source": [
    "is_stationary(co2_df['CO2_diff'])"
   ]
  },
  {
   "cell_type": "markdown",
   "metadata": {},
   "source": [
    "AGAIN"
   ]
  },
  {
   "cell_type": "code",
   "execution_count": 65,
   "metadata": {},
   "outputs": [
    {
     "name": "stdout",
     "output_type": "stream",
     "text": [
      "ADF Statistic: -33.95115724789159\n",
      "p-value: 0.0\n"
     ]
    }
   ],
   "source": [
    "co2_df['CO2_diff_2nd'] = co2_df['CO2 molfrac (ppm)'].diff().diff()\n",
    "is_stationary(co2_df['CO2_diff_2nd'])"
   ]
  },
  {
   "cell_type": "markdown",
   "metadata": {},
   "source": [
    "as we can see data has become stationary and is ready for modeling"
   ]
  },
  {
   "cell_type": "code",
   "execution_count": 67,
   "metadata": {},
   "outputs": [
    {
     "data": {
      "text/html": [
       "<div>\n",
       "<style scoped>\n",
       "    .dataframe tbody tr th:only-of-type {\n",
       "        vertical-align: middle;\n",
       "    }\n",
       "\n",
       "    .dataframe tbody tr th {\n",
       "        vertical-align: top;\n",
       "    }\n",
       "\n",
       "    .dataframe thead th {\n",
       "        text-align: right;\n",
       "    }\n",
       "</style>\n",
       "<table border=\"1\" class=\"dataframe\">\n",
       "  <thead>\n",
       "    <tr style=\"text-align: right;\">\n",
       "      <th></th>\n",
       "      <th>CO2 molfrac (ppm)</th>\n",
       "      <th>co2_normalized</th>\n",
       "      <th>CO2_diff</th>\n",
       "      <th>CO2_diff_2nd</th>\n",
       "    </tr>\n",
       "    <tr>\n",
       "      <th>date</th>\n",
       "      <th></th>\n",
       "      <th></th>\n",
       "      <th></th>\n",
       "      <th></th>\n",
       "    </tr>\n",
       "  </thead>\n",
       "  <tbody>\n",
       "    <tr>\n",
       "      <th>1974-05-19</th>\n",
       "      <td>333.46</td>\n",
       "      <td>0.072174</td>\n",
       "      <td>NaN</td>\n",
       "      <td>NaN</td>\n",
       "    </tr>\n",
       "    <tr>\n",
       "      <th>1974-05-20</th>\n",
       "      <td>333.64</td>\n",
       "      <td>0.073930</td>\n",
       "      <td>0.18</td>\n",
       "      <td>NaN</td>\n",
       "    </tr>\n",
       "    <tr>\n",
       "      <th>1974-05-21</th>\n",
       "      <td>333.50</td>\n",
       "      <td>0.072564</td>\n",
       "      <td>-0.14</td>\n",
       "      <td>-0.32</td>\n",
       "    </tr>\n",
       "    <tr>\n",
       "      <th>1974-05-22</th>\n",
       "      <td>333.21</td>\n",
       "      <td>0.069736</td>\n",
       "      <td>-0.29</td>\n",
       "      <td>-0.15</td>\n",
       "    </tr>\n",
       "    <tr>\n",
       "      <th>1974-05-23</th>\n",
       "      <td>333.05</td>\n",
       "      <td>0.068175</td>\n",
       "      <td>-0.16</td>\n",
       "      <td>0.13</td>\n",
       "    </tr>\n",
       "  </tbody>\n",
       "</table>\n",
       "</div>"
      ],
      "text/plain": [
       "            CO2 molfrac (ppm)  co2_normalized  CO2_diff  CO2_diff_2nd\n",
       "date                                                                 \n",
       "1974-05-19             333.46        0.072174       NaN           NaN\n",
       "1974-05-20             333.64        0.073930      0.18           NaN\n",
       "1974-05-21             333.50        0.072564     -0.14         -0.32\n",
       "1974-05-22             333.21        0.069736     -0.29         -0.15\n",
       "1974-05-23             333.05        0.068175     -0.16          0.13"
      ]
     },
     "execution_count": 67,
     "metadata": {},
     "output_type": "execute_result"
    }
   ],
   "source": [
    "co2_df.head()"
   ]
  },
  {
   "cell_type": "code",
   "execution_count": 68,
   "metadata": {},
   "outputs": [
    {
     "data": {
      "text/html": [
       "<div>\n",
       "<style scoped>\n",
       "    .dataframe tbody tr th:only-of-type {\n",
       "        vertical-align: middle;\n",
       "    }\n",
       "\n",
       "    .dataframe tbody tr th {\n",
       "        vertical-align: top;\n",
       "    }\n",
       "\n",
       "    .dataframe thead th {\n",
       "        text-align: right;\n",
       "    }\n",
       "</style>\n",
       "<table border=\"1\" class=\"dataframe\">\n",
       "  <thead>\n",
       "    <tr style=\"text-align: right;\">\n",
       "      <th></th>\n",
       "      <th>time</th>\n",
       "      <th>generation biomass</th>\n",
       "      <th>generation fossil brown coal/lignite</th>\n",
       "      <th>generation fossil coal-derived gas</th>\n",
       "      <th>generation fossil gas</th>\n",
       "      <th>generation fossil hard coal</th>\n",
       "      <th>generation fossil oil</th>\n",
       "      <th>generation fossil oil shale</th>\n",
       "      <th>generation fossil peat</th>\n",
       "      <th>generation geothermal</th>\n",
       "      <th>...</th>\n",
       "      <th>generation waste</th>\n",
       "      <th>generation wind offshore</th>\n",
       "      <th>generation wind onshore</th>\n",
       "      <th>forecast solar day ahead</th>\n",
       "      <th>forecast wind offshore eday ahead</th>\n",
       "      <th>forecast wind onshore day ahead</th>\n",
       "      <th>total load forecast</th>\n",
       "      <th>total load actual</th>\n",
       "      <th>price day ahead</th>\n",
       "      <th>price actual</th>\n",
       "    </tr>\n",
       "  </thead>\n",
       "  <tbody>\n",
       "    <tr>\n",
       "      <th>0</th>\n",
       "      <td>2015-01-01 00:00:00+01:00</td>\n",
       "      <td>447.0</td>\n",
       "      <td>329.0</td>\n",
       "      <td>0.0</td>\n",
       "      <td>4844.0</td>\n",
       "      <td>4821.0</td>\n",
       "      <td>162.0</td>\n",
       "      <td>0.0</td>\n",
       "      <td>0.0</td>\n",
       "      <td>0.0</td>\n",
       "      <td>...</td>\n",
       "      <td>196.0</td>\n",
       "      <td>0.0</td>\n",
       "      <td>6378.0</td>\n",
       "      <td>17.0</td>\n",
       "      <td>NaN</td>\n",
       "      <td>6436.0</td>\n",
       "      <td>26118.0</td>\n",
       "      <td>25385.0</td>\n",
       "      <td>50.10</td>\n",
       "      <td>65.41</td>\n",
       "    </tr>\n",
       "    <tr>\n",
       "      <th>1</th>\n",
       "      <td>2015-01-01 01:00:00+01:00</td>\n",
       "      <td>449.0</td>\n",
       "      <td>328.0</td>\n",
       "      <td>0.0</td>\n",
       "      <td>5196.0</td>\n",
       "      <td>4755.0</td>\n",
       "      <td>158.0</td>\n",
       "      <td>0.0</td>\n",
       "      <td>0.0</td>\n",
       "      <td>0.0</td>\n",
       "      <td>...</td>\n",
       "      <td>195.0</td>\n",
       "      <td>0.0</td>\n",
       "      <td>5890.0</td>\n",
       "      <td>16.0</td>\n",
       "      <td>NaN</td>\n",
       "      <td>5856.0</td>\n",
       "      <td>24934.0</td>\n",
       "      <td>24382.0</td>\n",
       "      <td>48.10</td>\n",
       "      <td>64.92</td>\n",
       "    </tr>\n",
       "    <tr>\n",
       "      <th>2</th>\n",
       "      <td>2015-01-01 02:00:00+01:00</td>\n",
       "      <td>448.0</td>\n",
       "      <td>323.0</td>\n",
       "      <td>0.0</td>\n",
       "      <td>4857.0</td>\n",
       "      <td>4581.0</td>\n",
       "      <td>157.0</td>\n",
       "      <td>0.0</td>\n",
       "      <td>0.0</td>\n",
       "      <td>0.0</td>\n",
       "      <td>...</td>\n",
       "      <td>196.0</td>\n",
       "      <td>0.0</td>\n",
       "      <td>5461.0</td>\n",
       "      <td>8.0</td>\n",
       "      <td>NaN</td>\n",
       "      <td>5454.0</td>\n",
       "      <td>23515.0</td>\n",
       "      <td>22734.0</td>\n",
       "      <td>47.33</td>\n",
       "      <td>64.48</td>\n",
       "    </tr>\n",
       "    <tr>\n",
       "      <th>3</th>\n",
       "      <td>2015-01-01 03:00:00+01:00</td>\n",
       "      <td>438.0</td>\n",
       "      <td>254.0</td>\n",
       "      <td>0.0</td>\n",
       "      <td>4314.0</td>\n",
       "      <td>4131.0</td>\n",
       "      <td>160.0</td>\n",
       "      <td>0.0</td>\n",
       "      <td>0.0</td>\n",
       "      <td>0.0</td>\n",
       "      <td>...</td>\n",
       "      <td>191.0</td>\n",
       "      <td>0.0</td>\n",
       "      <td>5238.0</td>\n",
       "      <td>2.0</td>\n",
       "      <td>NaN</td>\n",
       "      <td>5151.0</td>\n",
       "      <td>22642.0</td>\n",
       "      <td>21286.0</td>\n",
       "      <td>42.27</td>\n",
       "      <td>59.32</td>\n",
       "    </tr>\n",
       "    <tr>\n",
       "      <th>4</th>\n",
       "      <td>2015-01-01 04:00:00+01:00</td>\n",
       "      <td>428.0</td>\n",
       "      <td>187.0</td>\n",
       "      <td>0.0</td>\n",
       "      <td>4130.0</td>\n",
       "      <td>3840.0</td>\n",
       "      <td>156.0</td>\n",
       "      <td>0.0</td>\n",
       "      <td>0.0</td>\n",
       "      <td>0.0</td>\n",
       "      <td>...</td>\n",
       "      <td>189.0</td>\n",
       "      <td>0.0</td>\n",
       "      <td>4935.0</td>\n",
       "      <td>9.0</td>\n",
       "      <td>NaN</td>\n",
       "      <td>4861.0</td>\n",
       "      <td>21785.0</td>\n",
       "      <td>20264.0</td>\n",
       "      <td>38.41</td>\n",
       "      <td>56.04</td>\n",
       "    </tr>\n",
       "  </tbody>\n",
       "</table>\n",
       "<p>5 rows × 29 columns</p>\n",
       "</div>"
      ],
      "text/plain": [
       "                        time  generation biomass  \\\n",
       "0  2015-01-01 00:00:00+01:00               447.0   \n",
       "1  2015-01-01 01:00:00+01:00               449.0   \n",
       "2  2015-01-01 02:00:00+01:00               448.0   \n",
       "3  2015-01-01 03:00:00+01:00               438.0   \n",
       "4  2015-01-01 04:00:00+01:00               428.0   \n",
       "\n",
       "   generation fossil brown coal/lignite  generation fossil coal-derived gas  \\\n",
       "0                                 329.0                                 0.0   \n",
       "1                                 328.0                                 0.0   \n",
       "2                                 323.0                                 0.0   \n",
       "3                                 254.0                                 0.0   \n",
       "4                                 187.0                                 0.0   \n",
       "\n",
       "   generation fossil gas  generation fossil hard coal  generation fossil oil  \\\n",
       "0                 4844.0                       4821.0                  162.0   \n",
       "1                 5196.0                       4755.0                  158.0   \n",
       "2                 4857.0                       4581.0                  157.0   \n",
       "3                 4314.0                       4131.0                  160.0   \n",
       "4                 4130.0                       3840.0                  156.0   \n",
       "\n",
       "   generation fossil oil shale  generation fossil peat  generation geothermal  \\\n",
       "0                          0.0                     0.0                    0.0   \n",
       "1                          0.0                     0.0                    0.0   \n",
       "2                          0.0                     0.0                    0.0   \n",
       "3                          0.0                     0.0                    0.0   \n",
       "4                          0.0                     0.0                    0.0   \n",
       "\n",
       "   ...  generation waste  generation wind offshore  generation wind onshore  \\\n",
       "0  ...             196.0                       0.0                   6378.0   \n",
       "1  ...             195.0                       0.0                   5890.0   \n",
       "2  ...             196.0                       0.0                   5461.0   \n",
       "3  ...             191.0                       0.0                   5238.0   \n",
       "4  ...             189.0                       0.0                   4935.0   \n",
       "\n",
       "   forecast solar day ahead  forecast wind offshore eday ahead  \\\n",
       "0                      17.0                                NaN   \n",
       "1                      16.0                                NaN   \n",
       "2                       8.0                                NaN   \n",
       "3                       2.0                                NaN   \n",
       "4                       9.0                                NaN   \n",
       "\n",
       "   forecast wind onshore day ahead  total load forecast  total load actual  \\\n",
       "0                           6436.0              26118.0            25385.0   \n",
       "1                           5856.0              24934.0            24382.0   \n",
       "2                           5454.0              23515.0            22734.0   \n",
       "3                           5151.0              22642.0            21286.0   \n",
       "4                           4861.0              21785.0            20264.0   \n",
       "\n",
       "   price day ahead  price actual  \n",
       "0            50.10         65.41  \n",
       "1            48.10         64.92  \n",
       "2            47.33         64.48  \n",
       "3            42.27         59.32  \n",
       "4            38.41         56.04  \n",
       "\n",
       "[5 rows x 29 columns]"
      ]
     },
     "execution_count": 68,
     "metadata": {},
     "output_type": "execute_result"
    }
   ],
   "source": [
    "energy_df=pd.read_csv(\"energy_dataset.csv\")\n",
    "energy_df.head()"
   ]
  },
  {
   "cell_type": "code",
   "execution_count": 75,
   "metadata": {},
   "outputs": [
    {
     "data": {
      "text/plain": [
       "Index(['time', 'generation biomass', 'generation fossil brown coal/lignite',\n",
       "       'generation fossil coal-derived gas', 'generation fossil gas',\n",
       "       'generation fossil hard coal', 'generation fossil oil',\n",
       "       'generation fossil oil shale', 'generation fossil peat',\n",
       "       'generation geothermal', 'generation hydro pumped storage aggregated',\n",
       "       'generation hydro pumped storage consumption',\n",
       "       'generation hydro run-of-river and poundage',\n",
       "       'generation hydro water reservoir', 'generation marine',\n",
       "       'generation nuclear', 'generation other', 'generation other renewable',\n",
       "       'generation solar', 'generation waste', 'generation wind offshore',\n",
       "       'generation wind onshore', 'forecast solar day ahead',\n",
       "       'forecast wind offshore eday ahead', 'forecast wind onshore day ahead',\n",
       "       'total load forecast', 'total load actual', 'price day ahead',\n",
       "       'price actual'],\n",
       "      dtype='object')"
      ]
     },
     "execution_count": 75,
     "metadata": {},
     "output_type": "execute_result"
    }
   ],
   "source": [
    "energy_df.columns"
   ]
  },
  {
   "cell_type": "code",
   "execution_count": 77,
   "metadata": {},
   "outputs": [],
   "source": [
    "# selecting useful columns \n",
    "consumption_df=energy_df[['time','total load actual','price actual']]"
   ]
  },
  {
   "cell_type": "code",
   "execution_count": 78,
   "metadata": {},
   "outputs": [
    {
     "name": "stderr",
     "output_type": "stream",
     "text": [
      "C:\\Users\\siddi\\AppData\\Local\\Temp\\ipykernel_18820\\332693258.py:1: SettingWithCopyWarning: \n",
      "A value is trying to be set on a copy of a slice from a DataFrame.\n",
      "Try using .loc[row_indexer,col_indexer] = value instead\n",
      "\n",
      "See the caveats in the documentation: https://pandas.pydata.org/pandas-docs/stable/user_guide/indexing.html#returning-a-view-versus-a-copy\n",
      "  consumption_df['time']=pd.to_datetime(consumption_df['time'])\n"
     ]
    }
   ],
   "source": [
    "consumption_df['time']=pd.to_datetime(consumption_df['time'])"
   ]
  },
  {
   "cell_type": "code",
   "execution_count": 79,
   "metadata": {},
   "outputs": [
    {
     "data": {
      "text/html": [
       "<div>\n",
       "<style scoped>\n",
       "    .dataframe tbody tr th:only-of-type {\n",
       "        vertical-align: middle;\n",
       "    }\n",
       "\n",
       "    .dataframe tbody tr th {\n",
       "        vertical-align: top;\n",
       "    }\n",
       "\n",
       "    .dataframe thead th {\n",
       "        text-align: right;\n",
       "    }\n",
       "</style>\n",
       "<table border=\"1\" class=\"dataframe\">\n",
       "  <thead>\n",
       "    <tr style=\"text-align: right;\">\n",
       "      <th></th>\n",
       "      <th>total load actual</th>\n",
       "      <th>price actual</th>\n",
       "    </tr>\n",
       "    <tr>\n",
       "      <th>time</th>\n",
       "      <th></th>\n",
       "      <th></th>\n",
       "    </tr>\n",
       "  </thead>\n",
       "  <tbody>\n",
       "    <tr>\n",
       "      <th>2015-01-01 00:00:00+01:00</th>\n",
       "      <td>25385.0</td>\n",
       "      <td>65.41</td>\n",
       "    </tr>\n",
       "    <tr>\n",
       "      <th>2015-01-01 01:00:00+01:00</th>\n",
       "      <td>24382.0</td>\n",
       "      <td>64.92</td>\n",
       "    </tr>\n",
       "    <tr>\n",
       "      <th>2015-01-01 02:00:00+01:00</th>\n",
       "      <td>22734.0</td>\n",
       "      <td>64.48</td>\n",
       "    </tr>\n",
       "    <tr>\n",
       "      <th>2015-01-01 03:00:00+01:00</th>\n",
       "      <td>21286.0</td>\n",
       "      <td>59.32</td>\n",
       "    </tr>\n",
       "    <tr>\n",
       "      <th>2015-01-01 04:00:00+01:00</th>\n",
       "      <td>20264.0</td>\n",
       "      <td>56.04</td>\n",
       "    </tr>\n",
       "    <tr>\n",
       "      <th>...</th>\n",
       "      <td>...</td>\n",
       "      <td>...</td>\n",
       "    </tr>\n",
       "    <tr>\n",
       "      <th>2018-12-31 19:00:00+01:00</th>\n",
       "      <td>30653.0</td>\n",
       "      <td>77.02</td>\n",
       "    </tr>\n",
       "    <tr>\n",
       "      <th>2018-12-31 20:00:00+01:00</th>\n",
       "      <td>29735.0</td>\n",
       "      <td>76.16</td>\n",
       "    </tr>\n",
       "    <tr>\n",
       "      <th>2018-12-31 21:00:00+01:00</th>\n",
       "      <td>28071.0</td>\n",
       "      <td>74.30</td>\n",
       "    </tr>\n",
       "    <tr>\n",
       "      <th>2018-12-31 22:00:00+01:00</th>\n",
       "      <td>25801.0</td>\n",
       "      <td>69.89</td>\n",
       "    </tr>\n",
       "    <tr>\n",
       "      <th>2018-12-31 23:00:00+01:00</th>\n",
       "      <td>24455.0</td>\n",
       "      <td>69.88</td>\n",
       "    </tr>\n",
       "  </tbody>\n",
       "</table>\n",
       "<p>35064 rows × 2 columns</p>\n",
       "</div>"
      ],
      "text/plain": [
       "                           total load actual  price actual\n",
       "time                                                      \n",
       "2015-01-01 00:00:00+01:00            25385.0         65.41\n",
       "2015-01-01 01:00:00+01:00            24382.0         64.92\n",
       "2015-01-01 02:00:00+01:00            22734.0         64.48\n",
       "2015-01-01 03:00:00+01:00            21286.0         59.32\n",
       "2015-01-01 04:00:00+01:00            20264.0         56.04\n",
       "...                                      ...           ...\n",
       "2018-12-31 19:00:00+01:00            30653.0         77.02\n",
       "2018-12-31 20:00:00+01:00            29735.0         76.16\n",
       "2018-12-31 21:00:00+01:00            28071.0         74.30\n",
       "2018-12-31 22:00:00+01:00            25801.0         69.89\n",
       "2018-12-31 23:00:00+01:00            24455.0         69.88\n",
       "\n",
       "[35064 rows x 2 columns]"
      ]
     },
     "execution_count": 79,
     "metadata": {},
     "output_type": "execute_result"
    }
   ],
   "source": [
    "consumption_df.set_index(['time'])"
   ]
  },
  {
   "cell_type": "code",
   "execution_count": 82,
   "metadata": {},
   "outputs": [
    {
     "data": {
      "text/plain": [
       "time                  0\n",
       "total load actual    36\n",
       "price actual          0\n",
       "dtype: int64"
      ]
     },
     "execution_count": 82,
     "metadata": {},
     "output_type": "execute_result"
    }
   ],
   "source": [
    "consumption_df.isnull().sum()"
   ]
  },
  {
   "cell_type": "markdown",
   "metadata": {},
   "source": [
    "Observinf null values and then filling them using forward filling"
   ]
  },
  {
   "cell_type": "code",
   "execution_count": 83,
   "metadata": {},
   "outputs": [
    {
     "name": "stdout",
     "output_type": "stream",
     "text": [
      "                            time  total load actual  price actual\n",
      "108    2015-01-05 12:00:00+01:00                NaN         79.14\n",
      "109    2015-01-05 13:00:00+01:00                NaN         73.95\n",
      "110    2015-01-05 14:00:00+01:00                NaN         71.93\n",
      "111    2015-01-05 15:00:00+01:00                NaN         71.50\n",
      "112    2015-01-05 16:00:00+01:00                NaN         71.85\n",
      "113    2015-01-05 17:00:00+01:00                NaN         80.53\n",
      "661    2015-01-28 13:00:00+01:00                NaN         77.62\n",
      "751    2015-02-01 07:00:00+01:00                NaN         16.98\n",
      "752    2015-02-01 08:00:00+01:00                NaN         19.56\n",
      "753    2015-02-01 09:00:00+01:00                NaN         23.13\n",
      "756    2015-02-01 12:00:00+01:00                NaN         22.51\n",
      "757    2015-02-01 13:00:00+01:00                NaN         23.44\n",
      "758    2015-02-01 14:00:00+01:00                NaN         24.10\n",
      "759    2015-02-01 15:00:00+01:00                NaN         21.12\n",
      "760    2015-02-01 16:00:00+01:00                NaN         21.73\n",
      "761    2015-02-01 17:00:00+01:00                NaN         25.93\n",
      "762    2015-02-01 18:00:00+01:00                NaN         54.13\n",
      "763    2015-02-01 19:00:00+01:00                NaN         68.53\n",
      "2258   2015-04-05 03:00:00+02:00                NaN         29.04\n",
      "2528   2015-04-16 09:00:00+02:00                NaN         67.55\n",
      "2623   2015-04-20 08:00:00+02:00                NaN         72.92\n",
      "2708   2015-04-23 21:00:00+02:00                NaN         82.57\n",
      "2913   2015-05-02 10:00:00+02:00                NaN         59.09\n",
      "3554   2015-05-29 03:00:00+02:00                NaN         55.07\n",
      "6583   2015-10-02 08:00:00+02:00                NaN         70.13\n",
      "6586   2015-10-02 11:00:00+02:00                NaN         70.49\n",
      "8049   2015-12-02 09:00:00+01:00                NaN         80.44\n",
      "11524  2016-04-25 05:00:00+02:00                NaN         22.65\n",
      "11526  2016-04-25 07:00:00+02:00                NaN         40.18\n",
      "11902  2016-05-10 23:00:00+02:00                NaN         39.11\n",
      "13341  2016-07-09 22:00:00+02:00                NaN         51.72\n",
      "15272  2016-09-28 09:00:00+02:00                NaN         56.40\n",
      "25164  2017-11-14 12:00:00+01:00                NaN         66.17\n",
      "25171  2017-11-14 19:00:00+01:00                NaN         75.45\n",
      "30185  2018-06-11 18:00:00+02:00                NaN         64.93\n",
      "30896  2018-07-11 09:00:00+02:00                NaN         69.79\n"
     ]
    }
   ],
   "source": [
    "missing_rows = consumption_df[consumption_df.isnull().any(axis=1)]\n",
    "print(missing_rows)"
   ]
  },
  {
   "cell_type": "code",
   "execution_count": 84,
   "metadata": {},
   "outputs": [
    {
     "name": "stderr",
     "output_type": "stream",
     "text": [
      "C:\\Users\\siddi\\AppData\\Local\\Temp\\ipykernel_18820\\3469264664.py:1: SettingWithCopyWarning: \n",
      "A value is trying to be set on a copy of a slice from a DataFrame\n",
      "\n",
      "See the caveats in the documentation: https://pandas.pydata.org/pandas-docs/stable/user_guide/indexing.html#returning-a-view-versus-a-copy\n",
      "  consumption_df['total load actual'].fillna(method='ffill', inplace=True)\n"
     ]
    }
   ],
   "source": [
    "consumption_df['total load actual'].fillna(method='ffill', inplace=True)"
   ]
  },
  {
   "cell_type": "code",
   "execution_count": 85,
   "metadata": {},
   "outputs": [
    {
     "data": {
      "text/plain": [
       "time                 0\n",
       "total load actual    0\n",
       "price actual         0\n",
       "dtype: int64"
      ]
     },
     "execution_count": 85,
     "metadata": {},
     "output_type": "execute_result"
    }
   ],
   "source": [
    "consumption_df.isnull().sum()"
   ]
  },
  {
   "cell_type": "code",
   "execution_count": 95,
   "metadata": {},
   "outputs": [
    {
     "data": {
      "image/png": "[encoded data removed]",
      "text/plain": [
       "<Figure size 1000x600 with 1 Axes>"
      ]
     },
     "metadata": {},
     "output_type": "display_data"
    }
   ],
   "source": [
    "import matplotlib.pyplot as plt\n",
    "plt.figure(figsize=(10, 6))\n",
    "plt.plot(newdf['time'], newdf['total load actual'], label='Total Load Actual')\n",
    "plt.xlabel('Time')\n",
    "plt.ylabel('Total Load Actual')\n",
    "plt.title('Total Load Actual over Time')\n",
    "plt.legend()\n",
    "plt.grid(True)\n",
    "plt.xticks(rotation=45)\n",
    "plt.tight_layout()\n",
    "plt.show()"
   ]
  },
  {
   "cell_type": "markdown",
   "metadata": {},
   "source": [
    "Normalising "
   ]
  },
  {
   "cell_type": "code",
   "execution_count": 96,
   "metadata": {},
   "outputs": [
    {
     "name": "stderr",
     "output_type": "stream",
     "text": [
      "C:\\Users\\siddi\\AppData\\Local\\Temp\\ipykernel_18820\\2593722990.py:2: SettingWithCopyWarning: \n",
      "A value is trying to be set on a copy of a slice from a DataFrame.\n",
      "Try using .loc[row_indexer,col_indexer] = value instead\n",
      "\n",
      "See the caveats in the documentation: https://pandas.pydata.org/pandas-docs/stable/user_guide/indexing.html#returning-a-view-versus-a-copy\n",
      "  consumption_df['norm_load']=scaler.fit_transform(X)\n"
     ]
    }
   ],
   "source": [
    "X = consumption_df['total load actual'].values.reshape(-1, 1)\n",
    "consumption_df['norm_load']=scaler.fit_transform(X)"
   ]
  },
  {
   "cell_type": "code",
   "execution_count": 98,
   "metadata": {},
   "outputs": [
    {
     "name": "stdout",
     "output_type": "stream",
     "text": [
      "ADF Statistic: -21.441580739351274\n",
      "p-value: 0.0\n"
     ]
    }
   ],
   "source": [
    "is_stationary(consumption_df['total load actual'])"
   ]
  },
  {
   "cell_type": "markdown",
   "metadata": {},
   "source": [
    "It appears data already stationary, so no need to diff"
   ]
  }
 ],
 "metadata": {
  "kernelspec": {
   "display_name": "Python 3",
   "language": "python",
   "name": "python3"
  },
  "language_info": {
   "codemirror_mode": {
    "name": "ipython",
    "version": 3
   },
   "file_extension": ".py",
   "mimetype": "text/x-python",
   "name": "python",
   "nbconvert_exporter": "python",
   "pygments_lexer": "ipython3",
   "version": "3.11.3"
  }
 },
 "nbformat": 4,
 "nbformat_minor": 2
}
