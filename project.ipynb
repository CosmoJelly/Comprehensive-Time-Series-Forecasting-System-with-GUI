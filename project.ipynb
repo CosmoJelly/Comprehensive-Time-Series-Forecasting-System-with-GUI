{
  "cells": [
    {
      "cell_type": "markdown",
      "metadata": {
        "id": "G1uOWEDcw90z"
      },
      "source": [
        "# Datasets Used:\n",
        "1. [Finance Sector](https://www.kaggle.com/datasets/camnugent/sandp500)\n",
        "2. [Energy Sector](https://gml.noaa.gov/ccgg/trends/data.html)\n",
        "3. [Enviornmental Sector](https://www.kaggle.com/datasets/nicholasjhana/energy-consumption-generation-prices-and-weather?select=energy_dataset.csv)"
      ]
    },
    {
      "cell_type": "markdown",
      "metadata": {
        "id": "Sa4BgRLcw901"
      },
      "source": [
        "# Importing Libraries"
      ]
    },
    {
      "cell_type": "markdown",
      "metadata": {
        "id": "O1rscoPbw902"
      },
      "source": [
        "Importing all the necessary libraries for the implementation of the code."
      ]
    },
    {
      "cell_type": "code",
      "execution_count": null,
      "metadata": {
        "id": "vCMg9MGow902"
      },
      "outputs": [],
      "source": [
        "import numpy as np\n",
        "import pandas as pd\n",
        "import matplotlib.pyplot as plt\n",
        "import seaborn as sns\n",
        "from statsmodels.tsa.arima.model import ARIMA\n",
        "import statsmodels.api as sm\n",
        "from sklearn.preprocessing import MinMaxScaler\n",
        "from keras.models import Sequential\n",
        "from keras.layers import Dense, LSTM\n",
        "from sklearn.svm import SVR\n",
        "from sklearn.model_selection import train_test_split\n",
        "from sklearn.preprocessing import StandardScaler"
      ]
    },
    {
      "cell_type": "markdown",
      "metadata": {
        "id": "p0IvGFSnw902"
      },
      "source": [
        "# Importing / Pre-Processing Dataset(s)"
      ]
    },
    {
      "cell_type": "markdown",
      "metadata": {
        "id": "Ta9pFAXEw903"
      },
      "source": [
        "Importing and Preprocessing the dataset(s) for the implementation of the code."
      ]
    },
    {
      "cell_type": "markdown",
      "metadata": {
        "id": "Q4MPaoXqw903"
      },
      "source": [
        "## Stock Dataset"
      ]
    },
    {
      "cell_type": "code",
      "execution_count": null,
      "metadata": {
        "colab": {
          "base_uri": "https://localhost:8080/"
        },
        "id": "mQGjXN8qw903",
        "outputId": "330769f6-ca51-43ce-f65d-d3f508c60155"
      },
      "outputs": [],
      "source": [
        "# Loading The Dataset\n",
        "stock_data = pd.read_csv('all_stocks_5yr.csv')\n",
        "\n",
        "# Converting Date Column To Datetime\n",
        "stock_data['date'] = pd.to_datetime(stock_data['date'])\n",
        "stock_data.set_index('date', inplace=True)\n",
        "\n",
        "# Printing To Test\n",
        "print(stock_data.head())"
      ]
    },
    {
      "cell_type": "code",
      "execution_count": null,
      "metadata": {
        "colab": {
          "base_uri": "https://localhost:8080/"
        },
        "id": "4UmV0_6Pw904",
        "outputId": "f21766f0-aa7b-49c1-ce5e-537207eec2e4"
      },
      "outputs": [],
      "source": [
        "# Dropping Missing Values\n",
        "stock_data.dropna(inplace=True)\n",
        "\n",
        "# Checking For Missing Values\n",
        "stock_data.isnull().sum()"
      ]
    },
    {
      "cell_type": "markdown",
      "metadata": {
        "id": "bKzK7xUUw905"
      },
      "source": [
        "## CO2 Dataset"
      ]
    },
    {
      "cell_type": "code",
      "execution_count": null,
      "metadata": {
        "colab": {
          "base_uri": "https://localhost:8080/"
        },
        "id": "L0aUEnMZw905",
        "outputId": "27a148ce-0458-4238-976c-fd9e43a48665"
      },
      "outputs": [],
      "source": [
        "# Loading The Dataset\n",
        "co2_data=pd.read_csv(\"co2_daily_mlo.csv\")\n",
        "\n",
        "# Create a new column called 'date'\n",
        "co2_data['date'] = pd.NaT\n",
        "\n",
        "# Convert the 'year', 'month', and 'day' columns to strings\n",
        "co2_data['yr'] = co2_data['yr'].astype(str)\n",
        "co2_data['mon'] = co2_data['mon'].astype(str)\n",
        "co2_data['day'] = co2_data['day'].astype(str)\n",
        "\n",
        "# Concatenate the 'year', 'month', and 'day' columns to form a new column called 'date'\n",
        "co2_data['date'] = co2_data['yr'] + '-' + co2_data['mon'] + '-' + co2_data['day']\n",
        "\n",
        "# Converting the 'date' column to datetime format\n",
        "co2_data['date'] = pd.to_datetime(co2_data['date'])\n",
        "\n",
        "# Dropping the 'yr', 'mon', and 'day' columns\n",
        "co2_data.drop(columns=['yr', 'mon', 'day'], inplace=True)\n",
        "\n",
        "#using date as index and sorting\n",
        "co2_data.set_index('date',inplace=True)\n",
        "co2_data.sort_index(inplace=True)\n",
        "\n",
        "# Printing To Test\n",
        "print(co2_data.head())"
      ]
    },
    {
      "cell_type": "code",
      "execution_count": null,
      "metadata": {
        "colab": {
          "base_uri": "https://localhost:8080/"
        },
        "id": "o03g18Nzw906",
        "outputId": "e1194368-8a7e-435a-bea0-8fe5121562a9"
      },
      "outputs": [],
      "source": [
        "# Dropping Missing Values\n",
        "co2_data.dropna(inplace=True)\n",
        "\n",
        "# Checking For Null Values\n",
        "co2_data.isnull().sum()"
      ]
    },
    {
      "cell_type": "markdown",
      "metadata": {
        "id": "DWgTfGHOw906"
      },
      "source": [
        "## Energy Dataset"
      ]
    },
    {
      "cell_type": "code",
      "execution_count": null,
      "metadata": {
        "colab": {
          "base_uri": "https://localhost:8080/",
          "height": 412
        },
        "id": "BrtVmWt4w907",
        "outputId": "d223cb80-7887-4b0c-eb69-68621a8e6584"
      },
      "outputs": [],
      "source": [
        "# # Loading The Dataset\n",
        "# energy_data=pd.read_csv(\"energy_dataset.csv\")\n",
        "\n",
        "# # Printing To Test\n",
        "# energy_data.head()"
      ]
    },
    {
      "cell_type": "code",
      "execution_count": null,
      "metadata": {
        "colab": {
          "base_uri": "https://localhost:8080/",
          "height": 322
        },
        "id": "0djjtp4Fw908",
        "outputId": "4b8f07f8-37d7-44c2-bc59-937b5d0b3798"
      },
      "outputs": [],
      "source": [
        "# # Selecting Useful Columns\n",
        "# energy_data = energy_data[['time','total load actual','price actual']]\n",
        "\n",
        "# # Converting 'time' to datetime\n",
        "# energy_data['time'] = pd.to_datetime(energy_data['time'], format = \"%Y-%m-%d %H:%M:%S\", dayfirst = True)\n",
        "\n",
        "# # Setting 'time' as the index\n",
        "# energy_data.set_index('time', inplace=True)\n",
        "\n",
        "# # Printing To Test\n",
        "# print(energy_data.head())"
      ]
    },
    {
      "cell_type": "code",
      "execution_count": null,
      "metadata": {
        "id": "nVi84zoJw908",
        "outputId": "422db87a-fb1a-48e3-d5d3-b8da897a4aba"
      },
      "outputs": [],
      "source": [
        "# # Checking For Missing Values\n",
        "# energy_data.isnull().sum()"
      ]
    },
    {
      "cell_type": "code",
      "execution_count": null,
      "metadata": {
        "id": "-ZAGW6KJw909",
        "outputId": "39a02cda-439d-42b9-fb5e-bdcb47b2fefd"
      },
      "outputs": [],
      "source": [
        "# # Filling Missing Values With Forward Fill\n",
        "# energy_data.fillna(method='ffill', inplace=True)\n",
        "\n",
        "# # Checking For Missing Values\n",
        "# energy_data.isnull().sum()"
      ]
    },
    {
      "cell_type": "markdown",
      "metadata": {
        "id": "w4V56ZCIw909"
      },
      "source": [
        "## Checking If Data Is Stationary"
      ]
    },
    {
      "cell_type": "markdown",
      "metadata": {
        "id": "d7FOgjArw90-"
      },
      "source": [
        "Creating a function to check if the data is stationary or not and accordingly making it stationary."
      ]
    },
    {
      "cell_type": "code",
      "execution_count": null,
      "metadata": {
        "id": "Y5aTJVhuw90-"
      },
      "outputs": [],
      "source": [
        "def check_stationarity(data):\n",
        "    # Plotting The Data\n",
        "    plt.figure(figsize=(12, 6))\n",
        "    plt.plot(data)\n",
        "    plt.title('Time Series Data')\n",
        "    plt.show()\n",
        "\n",
        "    # Dropping Missing Or Infinite Values\n",
        "    data = data.replace([np.inf, -np.inf], np.nan).dropna()\n",
        "\n",
        "    # Performing The Augmented Dickey-Fuller Test\n",
        "    adf_test = sm.tsa.adfuller(data)\n",
        "    print('ADF Statistic:', adf_test[0])\n",
        "    print('p-value:', adf_test[1])\n",
        "\n",
        "    # Checking The Results\n",
        "    if adf_test[1] < 0.05:\n",
        "        print('The Data Is Stationary')\n",
        "    else:\n",
        "        print('The Data Is Not Stationary')"
      ]
    },
    {
      "cell_type": "markdown",
      "metadata": {
        "id": "WmJAdqehw90-"
      },
      "source": [
        "Checking if Stock Data is Stationary."
      ]
    },
    {
      "cell_type": "code",
      "execution_count": null,
      "metadata": {
        "id": "6eS00iFSw90-"
      },
      "outputs": [],
      "source": [
        "check_stationarity(stock_data['close'])"
      ]
    },
    {
      "cell_type": "markdown",
      "metadata": {
        "id": "DtXlJWFBw90-"
      },
      "source": [
        "Checking if Environmental Data is Stationary."
      ]
    },
    {
      "cell_type": "code",
      "execution_count": null,
      "metadata": {
        "id": "DKhMZVRAw91A"
      },
      "outputs": [],
      "source": [
        "check_stationarity(co2_data['CO2 molfrac (ppm)'])"
      ]
    },
    {
      "cell_type": "markdown",
      "metadata": {
        "id": "ajnMEufYw91A"
      },
      "source": [
        "Making Environmental Data Stationary and Running 2nd Iteration."
      ]
    },
    {
      "cell_type": "code",
      "execution_count": null,
      "metadata": {
        "id": "yWrvOy8Cw91A"
      },
      "outputs": [],
      "source": [
        "# Differencing The Data\n",
        "co2_data['CO2_diff'] = co2_data['CO2 molfrac (ppm)'].diff()\n",
        "\n",
        "# Re-Checking For Stationarity\n",
        "check_stationarity(co2_data['CO2_diff'])"
      ]
    },
    {
      "cell_type": "markdown",
      "metadata": {
        "id": "FzbyeLPtw91B"
      },
      "source": [
        "Checking if Energy Data is Stationary."
      ]
    },
    {
      "cell_type": "code",
      "execution_count": null,
      "metadata": {
        "id": "mKKlu8I9w91B"
      },
      "outputs": [],
      "source": [
        "# check_stationarity(energy_data['total load actual'])"
      ]
    },
    {
      "cell_type": "markdown",
      "metadata": {
        "id": "ZJ0Ymso0w91B"
      },
      "source": [
        "As of right now all data is stationary and ready to be used for models (with changes being made according to the model requirements)."
      ]
    },
    {
      "cell_type": "markdown",
      "metadata": {
        "id": "9_xL8tnfw91B"
      },
      "source": [
        "# Model Implementation"
      ]
    },
    {
      "cell_type": "markdown",
      "metadata": {
        "id": "Jko1UnACw91B"
      },
      "source": [
        "This is the section where we will begin the implementation of all the models while also finding all the results of the models."
      ]
    },
    {
      "cell_type": "markdown",
      "metadata": {
        "id": "rEcOp-_6w91B"
      },
      "source": [
        "## ARIMA Model"
      ]
    },
    {
      "cell_type": "markdown",
      "metadata": {
        "id": "YzdKNdrKw91B"
      },
      "source": [
        "### Stock Data"
      ]
    },
    {
      "cell_type": "code",
      "execution_count": null,
      "metadata": {
        "colab": {
          "base_uri": "https://localhost:8080/",
          "height": 1000
        },
        "id": "c3QJpFFWw91B",
        "outputId": "53452c90-458e-4b30-e44b-da24e472c6cf"
      },
      "outputs": [],
      "source": [
        "# Creating An ARIMA Model\n",
        "model_stock = ARIMA(stock_data['close'], order=(5, 1, 0))\n",
        "results_stock = model_stock.fit()\n",
        "\n",
        "# Plotting The ARIMA Model\n",
        "plt.figure(figsize=(12, 6))\n",
        "plt.plot(stock_data['close'], label='Original Data')\n",
        "plt.plot(results_stock.fittedvalues, label='Predicted Data')\n",
        "plt.title('ARIMA Model for Stock Data')\n",
        "plt.xlabel('Date')\n",
        "plt.ylabel('Close Price')\n",
        "plt.legend()\n",
        "plt.show()\n",
        "\n",
        "# Printing The ARIMA Model Summary\n",
        "print(results_stock.summary())"
      ]
    },
    {
      "cell_type": "markdown",
      "metadata": {
        "id": "Iel906Axw91C"
      },
      "source": [
        "### CO2 Data"
      ]
    },
    {
      "cell_type": "code",
      "execution_count": null,
      "metadata": {
        "colab": {
          "base_uri": "https://localhost:8080/",
          "height": 1000
        },
        "id": "kIlY4p3mw91D",
        "outputId": "f3ac97d7-0ecd-4ce1-d9db-70b483077df6"
      },
      "outputs": [],
      "source": [
        "# Creating An ARIMA Model\n",
        "model_co2 = ARIMA(co2_data['CO2 molfrac (ppm)'], order=(5, 1, 0))\n",
        "results_co2 = model_co2.fit()\n",
        "\n",
        "# Plotting The ARIMA Model\n",
        "plt.figure(figsize=(12, 6))\n",
        "plt.plot(co2_data['CO2 molfrac (ppm)'], label='Original Data')\n",
        "plt.plot(results_co2.fittedvalues, label='Predicted Data')\n",
        "plt.title('ARIMA Model for CO2 Data')\n",
        "plt.xlabel('Date')\n",
        "plt.ylabel('CO2 Concentration')\n",
        "plt.legend()\n",
        "plt.show()\n",
        "\n",
        "# Printing The ARIMA Model Summary\n",
        "print(results_co2.summary())"
      ]
    },
    {
      "cell_type": "markdown",
      "metadata": {
        "id": "5OzZUeyjw91D"
      },
      "source": [
        "### Energy Data"
      ]
    },
    {
      "cell_type": "code",
      "execution_count": null,
      "metadata": {
        "id": "tb8gtZn_w91D"
      },
      "outputs": [],
      "source": [
        "# Not implemented"
      ]
    },
    {
      "cell_type": "markdown",
      "metadata": {
        "id": "AX6ZsVWvw91E"
      },
      "source": [
        "## ANN (Artifical Neural Networks) Model"
      ]
    },
    {
      "cell_type": "markdown",
      "metadata": {
        "id": "LozRWlOlw91E"
      },
      "source": [
        "### Stock Data"
      ]
    },
    {
      "cell_type": "code",
      "execution_count": null,
      "metadata": {
        "colab": {
          "base_uri": "https://localhost:8080/"
        },
        "id": "1W0IVd7Kw91E",
        "outputId": "c14e07c7-4cce-459f-ae7d-416e7339a1ce"
      },
      "outputs": [],
      "source": [
        "# Scaling the data\n",
        "scaler = MinMaxScaler(feature_range=(0, 1))\n",
        "stock_data_scaled = scaler.fit_transform(stock_data['close'].values.reshape(-1, 1))\n",
        "\n",
        "# Splitting the data into train and test sets\n",
        "train_size = int(len(stock_data_scaled) * 0.8)\n",
        "train_data, test_data = stock_data_scaled[0:train_size], stock_data_scaled[train_size:]\n",
        "\n",
        "# Creating the input and output sequences for the LSTM model\n",
        "X_train, y_train = [], []\n",
        "for i in range(60, len(train_data)):\n",
        "    X_train.append(train_data[i-60:i])\n",
        "    y_train.append(train_data[i])\n",
        "\n",
        "X_train, y_train = np.array(X_train), np.array(y_train)\n",
        "\n",
        "# Reshaping the input data for the LSTM model\n",
        "X_train = X_train.reshape(X_train.shape[0], X_train.shape[1], 1)\n",
        "\n",
        "# Building the LSTM model\n",
        "model = Sequential()\n",
        "model.add(LSTM(units=50, return_sequences=True, input_shape=(X_train.shape[1], 1)))\n",
        "model.add(LSTM(units=50))\n",
        "model.add(Dense(units=1))\n",
        "\n",
        "# Compiling the model\n",
        "model.compile(loss='mean_squared_error', optimizer='adam')\n",
        "\n",
        "# Training the model\n",
        "model.fit(X_train, y_train, epochs=3, batch_size=32)\n",
        "\n",
        "# Making predictions\n",
        "predictions = model.predict(test_data)\n",
        "\n",
        "# Inverse scaling the predictions\n",
        "predictions = scaler.inverse_transform(predictions)"
      ]
    },
    {
      "cell_type": "code",
      "execution_count": null,
      "metadata": {},
      "outputs": [],
      "source": [
        "# Checking the Accuracy\n",
        "print('Mean Absolute Error:', np.mean(np.abs(stock_data['close'].values[train_size+60:] - predictions)))\n",
        "print('Mean Squared Error:', np.mean(np.square(stock_data['close'].values[train_size+60:] - predictions)))\n",
        "print('Root Mean Squared Error:', np.sqrt(np.mean(np.square(stock_data['close'].values[train_size+60:] - predictions))))\n",
        "print('Mean Absolute Percentage Error:', np.mean(np.abs((stock_data['close'].values[train_size+60:] - predictions) / stock_data['close'].values[train_size+60:]) * 100))"
      ]
    },
    {
      "cell_type": "markdown",
      "metadata": {
        "id": "dcnleSjsw91E"
      },
      "source": [
        "### CO2 Data"
      ]
    },
    {
      "cell_type": "code",
      "execution_count": null,
      "metadata": {
        "colab": {
          "base_uri": "https://localhost:8080/"
        },
        "id": "0rFp8eESw91E",
        "outputId": "b0b90098-96ae-438b-dcf7-9d5f1404092a"
      },
      "outputs": [],
      "source": [
        "# Scaling the data\n",
        "scaler = MinMaxScaler(feature_range=(0, 1))\n",
        "co2_data_scaled = scaler.fit_transform(co2_data['CO2 molfrac (ppm)'].values.reshape(-1, 1))\n",
        "\n",
        "# Splitting the data into train and test sets\n",
        "train_size = int(len(co2_data_scaled) * 0.8)\n",
        "train_data, test_data = co2_data_scaled[0:train_size], co2_data_scaled[train_size:]\n",
        "\n",
        "# Creating the input and output sequences for the LSTM model\n",
        "X_train, y_train = [], []\n",
        "for i in range(60, len(train_data)):\n",
        "    X_train.append(train_data[i-60:i])\n",
        "    y_train.append(train_data[i])\n",
        "\n",
        "X_train, y_train = np.array(X_train), np.array(y_train)\n",
        "\n",
        "# Reshaping the input data for the LSTM model\n",
        "X_train = X_train.reshape(X_train.shape[0], X_train.shape[1], 1)\n",
        "\n",
        "# Building the LSTM model\n",
        "model = Sequential()\n",
        "model.add(LSTM(units=50, return_sequences=True, input_shape=(X_train.shape[1], 1)))\n",
        "model.add(LSTM(units=50))\n",
        "model.add(Dense(units=1))\n",
        "\n",
        "# Compiling the model\n",
        "model.compile(loss='mean_squared_error', optimizer='adam')\n",
        "\n",
        "# Training the model\n",
        "model.fit(X_train, y_train, epochs=3, batch_size=32)\n",
        "\n",
        "# Making predictions\n",
        "predictions = model.predict(test_data)\n",
        "\n",
        "# Inverse scaling the predictions\n",
        "predictions = scaler.inverse_transform(predictions)"
      ]
    },
    {
      "cell_type": "code",
      "execution_count": null,
      "metadata": {},
      "outputs": [],
      "source": [
        "# Checking the Accuracy\n",
        "print('Mean Absolute Error:', np.mean(np.abs(co2_data['CO2 molfrac (ppm)'].values[train_size+60:] - predictions)))\n",
        "print('Mean Squared Error:', np.mean(np.square(co2_data['CO2 molfrac (ppm)'].values[train_size+60:] - predictions)))\n",
        "print('Root Mean Squared Error:', np.sqrt(np.mean(np.square(co2_data['CO2 molfrac (ppm)'].values[train_size+60:] - predictions))))\n",
        "print('Mean Absolute Percentage Error:', np.mean(np.abs((co2_data['CO2 molfrac (ppm)'].values[train_size+60:] - predictions) / co2_data['CO2 molfrac (ppm)'].values[train_size+60:]) * 100))"
      ]
    },
    {
      "cell_type": "markdown",
      "metadata": {
        "id": "-vyJ5oaRw91E"
      },
      "source": [
        "### Energy Data"
      ]
    },
    {
      "cell_type": "code",
      "execution_count": null,
      "metadata": {
        "id": "RRMJmCmEw91F"
      },
      "outputs": [],
      "source": [
        "# Not Implemented"
      ]
    },
    {
      "cell_type": "markdown",
      "metadata": {
        "id": "AHsUNJFHw91F"
      },
      "source": [
        "## SARIMA (Seasonal ARIMA) Model"
      ]
    },
    {
      "cell_type": "markdown",
      "metadata": {
        "id": "ypgEGMLxw91F"
      },
      "source": [
        "### Stock Data"
      ]
    },
    {
      "cell_type": "code",
      "execution_count": null,
      "metadata": {
        "colab": {
          "base_uri": "https://localhost:8080/",
          "height": 930
        },
        "id": "V1xmWn7Jw91F",
        "outputId": "b7bca04c-62e5-4889-e0a4-4174064672b7"
      },
      "outputs": [],
      "source": [
        "# make a SARIMA model on the stock data\n",
        "model = sm.tsa.statespace.SARIMAX(stock_data['close'], order=(1, 0, 1), seasonal_order=(1, 1, 1, 12))\n",
        "results = model.fit()\n",
        "\n",
        "start_date = '2013-02-08'\n",
        "end_date = '2018-02-07'\n",
        "\n",
        "# Getting the predictions\n",
        "predictions = results.predict(start=start_date, end=end_date)\n",
        "\n",
        "# Printing the predictions\n",
        "print(predictions)\n",
        "\n",
        "# Plotting the predictions\n",
        "plt.figure(figsize=(12, 6))\n",
        "plt.plot(stock_data['close'], label='Actual')\n",
        "plt.plot(predictions, label='Predictions')\n",
        "plt.title('Stock Price Predictions')\n",
        "plt.legend()\n",
        "plt.show()"
      ]
    },
    {
      "cell_type": "code",
      "execution_count": null,
      "metadata": {
        "colab": {
          "base_uri": "https://localhost:8080/"
        },
        "id": "LpFYdRYJPNjg",
        "outputId": "298f669d-9a23-41ec-983b-73a7d0dc0669"
      },
      "outputs": [],
      "source": [
        "# Checking the Accuracy\n",
        "print('Mean Absolute Error:', np.mean(np.abs(stock_data['close'][start_date:end_date] - predictions)))\n",
        "print('Mean Squared Error:', np.mean(np.square(stock_data['close'][start_date:end_date] - predictions)))\n",
        "print('Root Mean Squared Error:', np.sqrt(np.mean(np.square(stock_data['close'][start_date:end_date] - predictions))))\n",
        "print('Mean Absolute Percentage Error:', np.mean(np.abs((stock_data['close'][start_date:end_date] - predictions) / stock_data['close'][start_date:end_date]) * 100))"
      ]
    },
    {
      "cell_type": "markdown",
      "metadata": {
        "id": "AGqLt9frw91F"
      },
      "source": [
        "### CO2 Data"
      ]
    },
    {
      "cell_type": "code",
      "execution_count": null,
      "metadata": {
        "colab": {
          "base_uri": "https://localhost:8080/",
          "height": 930
        },
        "id": "NbeB1Z13w91F",
        "outputId": "d0a1885e-69b8-4f00-e997-e32c29e47f9c"
      },
      "outputs": [],
      "source": [
        "# Creating a SARIMA model on the CO2 data\n",
        "model = sm.tsa.statespace.SARIMAX(co2_data['CO2 molfrac (ppm)'], order=(1, 0, 1), seasonal_order=(1, 1, 1, 12))\n",
        "results = model.fit()\n",
        "\n",
        "start_date = '1974-05-19'\n",
        "end_date = '2024-05-10'\n",
        "\n",
        "# Getting the predictions\n",
        "predictions = results.predict(start=start_date, end=end_date)\n",
        "\n",
        "# Printing the predictions\n",
        "print(predictions)\n",
        "\n",
        "# Plotting the predictions\n",
        "plt.figure(figsize=(12, 6))\n",
        "plt.plot(co2_data['CO2 molfrac (ppm)'], label='Actual')\n",
        "plt.plot(predictions, label='Predictions')\n",
        "plt.title('CO2 Predictions')\n",
        "plt.legend()\n",
        "plt.show()"
      ]
    },
    {
      "cell_type": "code",
      "execution_count": null,
      "metadata": {},
      "outputs": [],
      "source": [
        "# Checking the Accuracy\n",
        "print('Mean Absolute Error:', np.mean(np.abs(co2_data['CO2 molfrac (ppm)'][start_date:end_date] - predictions)))\n",
        "print('Mean Squared Error:', np.mean(np.square(co2_data['CO2 molfrac (ppm)'][start_date:end_date] - predictions)))\n",
        "print('Root Mean Squared Error:', np.sqrt(np.mean(np.square(co2_data['CO2 molfrac (ppm)'][start_date:end_date] - predictions))))\n",
        "print('Mean Absolute Percentage Error:', np.mean(np.abs((co2_data['CO2 molfrac (ppm)'][start_date:end_date] - predictions) / co2_data['CO2 molfrac (ppm)'][start_date:end_date]) * 100))\n"
      ]
    },
    {
      "cell_type": "markdown",
      "metadata": {
        "id": "HxHkRimGw91G"
      },
      "source": [
        "### Energy Data"
      ]
    },
    {
      "cell_type": "code",
      "execution_count": null,
      "metadata": {
        "id": "b8zpCYyFw91G"
      },
      "outputs": [],
      "source": [
        "# Not Implemented"
      ]
    },
    {
      "cell_type": "markdown",
      "metadata": {
        "id": "ciUXqvylw91H"
      },
      "source": [
        "## ETS (Exponential Smoothing) Model"
      ]
    },
    {
      "cell_type": "markdown",
      "metadata": {
        "id": "LDrSkUzPw91H"
      },
      "source": [
        "### Stock Data"
      ]
    },
    {
      "cell_type": "code",
      "execution_count": null,
      "metadata": {
        "colab": {
          "base_uri": "https://localhost:8080/",
          "height": 545
        },
        "id": "D5XRr55xw91H",
        "outputId": "fbbe9b4f-6e5a-4225-a5d7-0404c95ad04a"
      },
      "outputs": [],
      "source": [
        "# Applying Exponential Smoothing To The Stock Data\n",
        "stock_data['close_ewm'] = stock_data['close'].ewm(span=20, adjust=False).mean()\n",
        "\n",
        "# Plotting The Data\n",
        "plt.figure(figsize=(12, 6))\n",
        "plt.plot(stock_data['close'], label='Close Price')\n",
        "plt.plot(stock_data['close_ewm'], label='Close Price EWM')\n",
        "plt.title('Stock Data')\n",
        "plt.legend()\n",
        "plt.show()"
      ]
    },
    {
      "cell_type": "code",
      "execution_count": null,
      "metadata": {
        "colab": {
          "base_uri": "https://localhost:8080/"
        },
        "id": "fBqW3LRnw91H",
        "outputId": "695e0cc3-d5b0-4073-8d45-30385ab09e22"
      },
      "outputs": [],
      "source": [
        "# Checking Accuracy\n",
        "print('The Mean Absolute Error:', np.mean(np.abs(stock_data['close'] - stock_data['close_ewm'])))\n",
        "print('The Mean Squared Error:', np.mean((stock_data['close'] - stock_data['close_ewm'])**2))\n",
        "stock_data['error_percent'] = 100 * np.abs((stock_data['close'] - stock_data['close_ewm']) / stock_data['close'])\n",
        "mape = stock_data['error_percent'].mean()\n",
        "\n",
        "print('The Mean Absolute Percentage Error:', int(100 - mape))"
      ]
    },
    {
      "cell_type": "markdown",
      "metadata": {
        "id": "t8WkSTztw91I"
      },
      "source": [
        "### CO2 Data"
      ]
    },
    {
      "cell_type": "code",
      "execution_count": null,
      "metadata": {
        "colab": {
          "base_uri": "https://localhost:8080/",
          "height": 597
        },
        "id": "4sWWrdB9w91I",
        "outputId": "f118a27f-498c-4a7f-87c6-cc8bca425388"
      },
      "outputs": [],
      "source": [
        "# Applying Exponential Smoothing To The CO2 Data\n",
        "co2_data['co2_ewm'] = co2_data['CO2 molfrac (ppm)'].ewm(span=20, adjust=False).mean()\n",
        "\n",
        "# Plotting The Data\n",
        "plt.figure(figsize=(12, 6))\n",
        "plt.plot(co2_data['CO2 molfrac (ppm)'], label='CO2 Concentration')\n",
        "plt.plot(co2_data['co2_ewm'], label='CO2 Concentration EWM')\n",
        "plt.title('CO2 Data')\n",
        "plt.legend()\n",
        "plt.show()"
      ]
    },
    {
      "cell_type": "code",
      "execution_count": null,
      "metadata": {},
      "outputs": [],
      "source": [
        "# Checking Accuracy\n",
        "print('The Mean Absolute Error:', np.mean(np.abs(co2_data['CO2 molfrac (ppm)'] - co2_data['co2_ewm'])))\n",
        "print('The Mean Squared Error:', np.mean((co2_data['CO2 molfrac (ppm)'] - co2_data['co2_ewm'])**2))\n",
        "co2_data['error_percent'] = 100 * np.abs((co2_data['CO2 molfrac (ppm)'] - co2_data['co2_ewm']) / co2_data['CO2 molfrac (ppm)'])\n",
        "mape = co2_data['error_percent'].mean()\n",
        "\n",
        "print('The Mean Absolute Percentage Error:', int(100 - mape))"
      ]
    },
    {
      "cell_type": "markdown",
      "metadata": {
        "id": "lj8f1Mgcw91I"
      },
      "source": [
        "### Energy Data"
      ]
    },
    {
      "cell_type": "code",
      "execution_count": null,
      "metadata": {
        "id": "npsbbtH1w91I"
      },
      "outputs": [],
      "source": [
        "# Not Implemented"
      ]
    },
    {
      "cell_type": "markdown",
      "metadata": {
        "id": "NJr3NLFJw91I"
      },
      "source": [
        "## Prophet Model"
      ]
    },
    {
      "cell_type": "markdown",
      "metadata": {
        "id": "ByLDmCdcw91I"
      },
      "source": [
        "### Stock Data"
      ]
    },
    {
      "cell_type": "code",
      "execution_count": null,
      "metadata": {
        "id": "PRDHwlsaw91J"
      },
      "outputs": [],
      "source": []
    },
    {
      "cell_type": "markdown",
      "metadata": {
        "id": "nzOleLsNw91J"
      },
      "source": [
        "### CO2 Data"
      ]
    },
    {
      "cell_type": "code",
      "execution_count": null,
      "metadata": {
        "id": "W5h8sd83w91J"
      },
      "outputs": [],
      "source": []
    },
    {
      "cell_type": "markdown",
      "metadata": {
        "id": "yXwBItqgw91J"
      },
      "source": [
        "### Energy Data"
      ]
    },
    {
      "cell_type": "code",
      "execution_count": null,
      "metadata": {
        "id": "QagVCANAw91J"
      },
      "outputs": [],
      "source": [
        "# Not Implemented"
      ]
    },
    {
      "cell_type": "markdown",
      "metadata": {
        "id": "B2pRM0xYw91J"
      },
      "source": [
        "## SVR (Support Vector Regression) Model"
      ]
    },
    {
      "cell_type": "markdown",
      "metadata": {
        "id": "6lCPz-rVw91J"
      },
      "source": [
        "### Stock Data"
      ]
    },
    {
      "cell_type": "code",
      "execution_count": null,
      "metadata": {
        "colab": {
          "base_uri": "https://localhost:8080/"
        },
        "id": "NIOv5OdVw91J",
        "outputId": "21fe2ea1-6595-4421-9d66-448834af2480"
      },
      "outputs": [],
      "source": [
        "# Drop The Name Column\n",
        "stock_data.drop('Name', axis=1, inplace=True)\n",
        "\n",
        "# Splitting The Data\n",
        "X = stock_data.drop('close', axis=1)\n",
        "y = stock_data['close']\n",
        "\n",
        "X_train, X_test, y_train, y_test = train_test_split(X, y, test_size=0.2, random_state=0)\n",
        "\n",
        "# Feature Scaling\n",
        "sc = StandardScaler()\n",
        "X_train = sc.fit_transform(X_train)\n",
        "X_test = sc.transform(X_test)\n",
        "\n",
        "# Fitting The SVR Model\n",
        "svr = SVR(kernel='rbf')\n",
        "svr.fit(X_train, y_train)\n",
        "\n",
        "# Predicting The Test Results\n",
        "y_pred = svr.predict(X_test)\n",
        "\n",
        "# Plotting The Predictions\n",
        "plt.figure(figsize=(12, 6))\n",
        "plt.plot(y_test.values, label='Actual')\n",
        "plt.plot(y_pred, label='Predicted')\n",
        "plt.title('Stock Price Predictions')\n",
        "plt.legend()\n",
        "plt.show()"
      ]
    },
    {
      "cell_type": "code",
      "execution_count": null,
      "metadata": {},
      "outputs": [],
      "source": [
        "# Checking Accuracy\n",
        "print('The Mean Absolute Error:', np.mean(np.abs(y_test - y_pred)))\n",
        "print('The Mean Squared Error:', np.mean((y_test - y_pred)**2))\n",
        "error_percent = 100 * np.abs((y_test - y_pred) / y_test)\n",
        "mape = error_percent.mean()\n",
        "\n",
        "print('The Mean Absolute Percentage Error:', int(100 - mape))"
      ]
    },
    {
      "cell_type": "markdown",
      "metadata": {
        "id": "rx_vyd7sw91J"
      },
      "source": [
        "### CO2 Data"
      ]
    },
    {
      "cell_type": "code",
      "execution_count": null,
      "metadata": {
        "colab": {
          "base_uri": "https://localhost:8080/",
          "height": 580
        },
        "id": "yiDcTLgWw91J",
        "outputId": "fcde19e4-349c-45af-a410-4c68edaf915b"
      },
      "outputs": [],
      "source": [
        "# Drop all Nan values\n",
        "co2_data.dropna(inplace=True)\n",
        "\n",
        "# Splitting The Data\n",
        "X = co2_data.drop('CO2 molfrac (ppm)', axis=1)\n",
        "y = co2_data['CO2 molfrac (ppm)']\n",
        "\n",
        "X_train, X_test, y_train, y_test = train_test_split(X, y, test_size=0.5, random_state=0)\n",
        "\n",
        "# Feature Scaling\n",
        "sc = StandardScaler()\n",
        "X_train = sc.fit_transform(X_train)\n",
        "X_test = sc.transform(X_test)\n",
        "\n",
        "# Fitting The SVR Model\n",
        "svr = SVR(kernel='rbf')\n",
        "svr.fit(X_train, y_train)\n",
        "\n",
        "# Predicting The Test Results\n",
        "y_pred = svr.predict(X_test)\n",
        "\n",
        "print(y_pred)\n",
        "\n",
        "# Plotting The Predictions\n",
        "plt.figure(figsize=(12, 6))\n",
        "plt.plot(y_test, label='Actual')\n",
        "plt.plot(y_pred, label='Predictions')\n",
        "plt.title('CO2 Predictions')\n",
        "plt.legend()\n",
        "plt.show()"
      ]
    },
    {
      "cell_type": "code",
      "execution_count": null,
      "metadata": {
        "colab": {
          "base_uri": "https://localhost:8080/"
        },
        "id": "XZwDWWbFw91J",
        "outputId": "c9dcc343-7351-4d45-95c9-cb1efee3ad14"
      },
      "outputs": [],
      "source": [
        "# Checking Accuracy\n",
        "print('The Mean Absolute Error:', np.mean(np.abs(y_test - y_pred)))\n",
        "print('The Mean Squared Error:', np.mean((y_test - y_pred)**2))\n",
        "error_percent = 100 * np.abs((y_test - y_pred) / y_test)\n",
        "mape = error_percent.mean()\n",
        "\n",
        "print('The Mean Absolute Percentage Error:', int(100 - mape))"
      ]
    },
    {
      "cell_type": "markdown",
      "metadata": {
        "id": "9stXZVt2w91K"
      },
      "source": [
        "### Energy Data"
      ]
    },
    {
      "cell_type": "code",
      "execution_count": null,
      "metadata": {
        "id": "S6Lq50aTw91K",
        "outputId": "6f805240-0812-447f-ba07-ccaed8691ffb"
      },
      "outputs": [],
      "source": [
        "# Not Implemented"
      ]
    },
    {
      "cell_type": "markdown",
      "metadata": {
        "id": "SxWCMT1Dw91K"
      },
      "source": [
        "## LSTM (Long Short-Term Memory) Model"
      ]
    },
    {
      "cell_type": "markdown",
      "metadata": {
        "id": "gE9BrxG9w91K"
      },
      "source": [
        "### Stock Data"
      ]
    },
    {
      "cell_type": "code",
      "execution_count": null,
      "metadata": {
        "colab": {
          "base_uri": "https://localhost:8080/",
          "height": 962
        },
        "id": "ahVxW6H2w91L",
        "outputId": "a0dd8a0e-45ee-49f9-a733-11f5f503ab80"
      },
      "outputs": [],
      "source": [
        "# Splitting The Data\n",
        "X = stock_data.drop('close', axis=1)\n",
        "y = stock_data['close']\n",
        "\n",
        "X_train, X_test, y_train, y_test = train_test_split(X, y, test_size=0.2, random_state=0)\n",
        "\n",
        "# Feature Scaling\n",
        "sc = StandardScaler()\n",
        "X_train = sc.fit_transform(X_train)\n",
        "X_test = sc.transform(X_test)\n",
        "\n",
        "# Reshaping The Data\n",
        "X_train = X_train.reshape(X_train.shape[0], X_train.shape[1], 1)\n",
        "X_test = X_test.reshape(X_test.shape[0], X_test.shape[1], 1)\n",
        "\n",
        "# Building The LSTM Model\n",
        "model = Sequential()\n",
        "model.add(LSTM(units=50, return_sequences=True, input_shape=(X_train.shape[1], 1)))\n",
        "model.add(LSTM(units=50))\n",
        "model.add(Dense(units=1))\n",
        "\n",
        "# Compiling The Model\n",
        "model.compile(optimizer='adam', loss='mean_squared_error')\n",
        "\n",
        "# Fitting The Model\n",
        "model.fit(X_train, y_train, epochs=50, batch_size=32)\n",
        "\n",
        "# Predicting The Test Results\n",
        "y_pred = model.predict(X_test)\n",
        "\n",
        "# Plotting The Predictions\n",
        "plt.figure(figsize=(12, 6))\n",
        "plt.plot(y_test, label='Actual')\n",
        "plt.plot(y_pred, label='Predictions')\n",
        "plt.title('Stock Predictions')\n",
        "plt.legend()\n",
        "plt.show()"
      ]
    },
    {
      "cell_type": "code",
      "execution_count": null,
      "metadata": {},
      "outputs": [],
      "source": [
        "# Checking Accuracy\n",
        "y_pred = y_pred.ravel()\n",
        "print('The Mean Absolute Error:', np.mean(np.abs(y_test - y_pred)))\n",
        "print('The Mean Squared Error:', np.mean((y_test - y_pred)**2))\n",
        "error_percent = 100 * np.abs((y_test - y_pred) / y_test)\n",
        "mape = error_percent.mean()\n",
        "\n",
        "print('The Mean Absolute Percentage Error:', int(100 - mape))"
      ]
    },
    {
      "cell_type": "markdown",
      "metadata": {
        "id": "l-PYzQmRw91L"
      },
      "source": [
        "### CO2 Data"
      ]
    },
    {
      "cell_type": "code",
      "execution_count": null,
      "metadata": {
        "colab": {
          "base_uri": "https://localhost:8080/",
          "height": 962
        },
        "id": "mJwIFiovw91L",
        "outputId": "7f9740b2-a195-4522-c704-d000de775b53"
      },
      "outputs": [],
      "source": [
        "# Splitting The Data\n",
        "X = co2_data.drop('CO2 molfrac (ppm)', axis=1)\n",
        "y = co2_data['CO2 molfrac (ppm)']\n",
        "\n",
        "X_train, X_test, y_train, y_test = train_test_split(X, y, test_size=0.2, random_state=0)\n",
        "\n",
        "# Feature Scaling\n",
        "sc = StandardScaler()\n",
        "X_train = sc.fit_transform(X_train)\n",
        "X_test = sc.transform(X_test)\n",
        "\n",
        "# Reshaping The Data\n",
        "X_train = X_train.reshape(X_train.shape[0], X_train.shape[1], 1)\n",
        "X_test = X_test.reshape(X_test.shape[0], X_test.shape[1], 1)\n",
        "\n",
        "# Building The LSTM Model\n",
        "model = Sequential()\n",
        "model.add(LSTM(units=50, return_sequences=True, input_shape=(X_train.shape[1], 1)))\n",
        "model.add(LSTM(units=50))\n",
        "model.add(Dense(units=1))\n",
        "\n",
        "# Compiling The Model\n",
        "model.compile(optimizer='adam', loss='mean_squared_error')\n",
        "\n",
        "# Fitting The Model\n",
        "model.fit(X_train, y_train, epochs=100, batch_size=32)\n",
        "\n",
        "# Predicting The Test Results\n",
        "y_pred = model.predict(X_test)\n",
        "\n",
        "# Plotting The Predictions\n",
        "plt.figure(figsize=(12, 6))\n",
        "plt.plot(y_test, label='Actual')\n",
        "plt.plot(y_pred, label='Predictions')\n",
        "plt.title('CO2 Predictions')\n",
        "plt.legend()\n",
        "plt.show()"
      ]
    },
    {
      "cell_type": "code",
      "execution_count": null,
      "metadata": {},
      "outputs": [],
      "source": [
        "# Checking Accuracy\n",
        "y_pred = y_pred.ravel()\n",
        "print('The Mean Absolute Error:', np.mean(np.abs(y_test - y_pred)))\n",
        "print('The Mean Squared Error:', np.mean((y_test - y_pred)**2))\n",
        "error_percent = 100 * np.abs((y_test - y_pred) / y_test)\n",
        "mape = error_percent.mean()\n",
        "\n",
        "print('The Mean Absolute Percentage Error:', int(100 - mape))"
      ]
    },
    {
      "cell_type": "markdown",
      "metadata": {
        "id": "X6XsKCeNw91L"
      },
      "source": [
        "### Energy Data"
      ]
    },
    {
      "cell_type": "code",
      "execution_count": null,
      "metadata": {
        "id": "SdYSX27sw91M"
      },
      "outputs": [],
      "source": [
        "# Not Implemented"
      ]
    },
    {
      "cell_type": "markdown",
      "metadata": {
        "id": "kbkm6WSqw91M"
      },
      "source": [
        "## Hybrid Model"
      ]
    },
    {
      "cell_type": "markdown",
      "metadata": {
        "id": "N0_yNSvgw91M"
      },
      "source": [
        "### Stock Data"
      ]
    },
    {
      "cell_type": "code",
      "execution_count": null,
      "metadata": {
        "id": "Ezh56rs5w91M"
      },
      "outputs": [],
      "source": []
    },
    {
      "cell_type": "markdown",
      "metadata": {
        "id": "yv0l7tu5w91M"
      },
      "source": [
        "### CO2 Data"
      ]
    },
    {
      "cell_type": "code",
      "execution_count": null,
      "metadata": {
        "id": "pVfh7PqYw91M"
      },
      "outputs": [],
      "source": []
    },
    {
      "cell_type": "markdown",
      "metadata": {
        "id": "54F0zBUMw91N"
      },
      "source": [
        "### Energy Data"
      ]
    },
    {
      "cell_type": "code",
      "execution_count": null,
      "metadata": {
        "id": "towuEK-yw91N"
      },
      "outputs": [],
      "source": [
        "# Not Implemented"
      ]
    },
    {
      "cell_type": "markdown",
      "metadata": {
        "id": "c3Cknpp0w91N"
      },
      "source": [
        "# Frontend Implementation"
      ]
    },
    {
      "cell_type": "markdown",
      "metadata": {
        "id": "JJfLUiFsw91O"
      },
      "source": [
        "In this section we will implement the frontend of the project using Streamlit since it is quite easy to use and implement."
      ]
    },
    {
      "cell_type": "code",
      "execution_count": null,
      "metadata": {
        "id": "WLZuyKCBw91O"
      },
      "outputs": [],
      "source": []
    }
  ],
  "metadata": {
    "colab": {
      "provenance": []
    },
    "kernelspec": {
      "display_name": "Python 3",
      "language": "python",
      "name": "python3"
    },
    "language_info": {
      "codemirror_mode": {
        "name": "ipython",
        "version": 3
      },
      "file_extension": ".py",
      "mimetype": "text/x-python",
      "name": "python",
      "nbconvert_exporter": "python",
      "pygments_lexer": "ipython3",
      "version": "3.12.2"
    }
  },
  "nbformat": 4,
  "nbformat_minor": 0
}
